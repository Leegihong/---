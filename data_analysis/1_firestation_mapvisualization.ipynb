{
 "cells": [
  {
   "cell_type": "code",
   "execution_count": 1,
   "metadata": {},
   "outputs": [],
   "source": [
    "import pandas as pd\n",
    "import geopandas as gpd"
   ]
  },
  {
   "cell_type": "markdown",
   "metadata": {},
   "source": [
    "## 서울시 소방서 위치 확인"
   ]
  },
  {
   "cell_type": "code",
   "execution_count": 2,
   "metadata": {},
   "outputs": [
    {
     "data": {
      "text/html": [
       "<div>\n",
       "<style scoped>\n",
       "    .dataframe tbody tr th:only-of-type {\n",
       "        vertical-align: middle;\n",
       "    }\n",
       "\n",
       "    .dataframe tbody tr th {\n",
       "        vertical-align: top;\n",
       "    }\n",
       "\n",
       "    .dataframe thead th {\n",
       "        text-align: right;\n",
       "    }\n",
       "</style>\n",
       "<table border=\"1\" class=\"dataframe\">\n",
       "  <thead>\n",
       "    <tr style=\"text-align: right;\">\n",
       "      <th></th>\n",
       "      <th>Unnamed: 0</th>\n",
       "      <th>서소이름</th>\n",
       "      <th>위도</th>\n",
       "      <th>경도</th>\n",
       "    </tr>\n",
       "  </thead>\n",
       "  <tbody>\n",
       "    <tr>\n",
       "      <th>0</th>\n",
       "      <td>0</td>\n",
       "      <td>서대문소방서</td>\n",
       "      <td>37.573334</td>\n",
       "      <td>126.935980</td>\n",
       "    </tr>\n",
       "    <tr>\n",
       "      <th>1</th>\n",
       "      <td>1</td>\n",
       "      <td>동작소방서</td>\n",
       "      <td>37.494631</td>\n",
       "      <td>126.917764</td>\n",
       "    </tr>\n",
       "    <tr>\n",
       "      <th>2</th>\n",
       "      <td>2</td>\n",
       "      <td>양천소방서</td>\n",
       "      <td>37.530222</td>\n",
       "      <td>126.872135</td>\n",
       "    </tr>\n",
       "    <tr>\n",
       "      <th>3</th>\n",
       "      <td>3</td>\n",
       "      <td>중부소방서</td>\n",
       "      <td>37.564956</td>\n",
       "      <td>127.015453</td>\n",
       "    </tr>\n",
       "    <tr>\n",
       "      <th>4</th>\n",
       "      <td>4</td>\n",
       "      <td>강서소방서</td>\n",
       "      <td>37.558002</td>\n",
       "      <td>126.860344</td>\n",
       "    </tr>\n",
       "  </tbody>\n",
       "</table>\n",
       "</div>"
      ],
      "text/plain": [
       "   Unnamed: 0    서소이름         위도          경도\n",
       "0           0  서대문소방서  37.573334  126.935980\n",
       "1           1   동작소방서  37.494631  126.917764\n",
       "2           2   양천소방서  37.530222  126.872135\n",
       "3           3   중부소방서  37.564956  127.015453\n",
       "4           4   강서소방서  37.558002  126.860344"
      ]
     },
     "execution_count": 2,
     "metadata": {},
     "output_type": "execute_result"
    }
   ],
   "source": [
    "data = pd.read_csv(\"./location.csv\", encoding = \"cp949\")\n",
    "data.head()"
   ]
  },
  {
   "cell_type": "code",
   "execution_count": 3,
   "metadata": {},
   "outputs": [
    {
     "name": "stdout",
     "output_type": "stream",
     "text": [
      "<class 'pandas.core.frame.DataFrame'>\n",
      "RangeIndex: 24 entries, 0 to 23\n",
      "Data columns (total 4 columns):\n",
      " #   Column      Non-Null Count  Dtype  \n",
      "---  ------      --------------  -----  \n",
      " 0   Unnamed: 0  24 non-null     int64  \n",
      " 1   서소이름        24 non-null     object \n",
      " 2   위도          24 non-null     float64\n",
      " 3   경도          24 non-null     float64\n",
      "dtypes: float64(2), int64(1), object(1)\n",
      "memory usage: 896.0+ bytes\n"
     ]
    }
   ],
   "source": [
    "data.info()"
   ]
  },
  {
   "cell_type": "code",
   "execution_count": 4,
   "metadata": {},
   "outputs": [
    {
     "data": {
      "text/plain": [
       "[<shapely.geometry.point.Point at 0x190fc4dd1c0>,\n",
       " <shapely.geometry.point.Point at 0x190fc463850>,\n",
       " <shapely.geometry.point.Point at 0x190fc4dd2e0>]"
      ]
     },
     "execution_count": 4,
     "metadata": {},
     "output_type": "execute_result"
    }
   ],
   "source": [
    "office = gpd.points_from_xy(data.경도, data.위도)\n",
    "office[0:3]"
   ]
  },
  {
   "cell_type": "code",
   "execution_count": 5,
   "metadata": {},
   "outputs": [
    {
     "data": {
      "text/html": [
       "<div>\n",
       "<style scoped>\n",
       "    .dataframe tbody tr th:only-of-type {\n",
       "        vertical-align: middle;\n",
       "    }\n",
       "\n",
       "    .dataframe tbody tr th {\n",
       "        vertical-align: top;\n",
       "    }\n",
       "\n",
       "    .dataframe thead th {\n",
       "        text-align: right;\n",
       "    }\n",
       "</style>\n",
       "<table border=\"1\" class=\"dataframe\">\n",
       "  <thead>\n",
       "    <tr style=\"text-align: right;\">\n",
       "      <th></th>\n",
       "      <th>Unnamed: 0</th>\n",
       "      <th>서소이름</th>\n",
       "      <th>위도</th>\n",
       "      <th>경도</th>\n",
       "      <th>geometry</th>\n",
       "    </tr>\n",
       "  </thead>\n",
       "  <tbody>\n",
       "    <tr>\n",
       "      <th>0</th>\n",
       "      <td>0</td>\n",
       "      <td>서대문소방서</td>\n",
       "      <td>37.573334</td>\n",
       "      <td>126.935980</td>\n",
       "      <td>POINT (126.9359802 37.5733339)</td>\n",
       "    </tr>\n",
       "    <tr>\n",
       "      <th>1</th>\n",
       "      <td>1</td>\n",
       "      <td>동작소방서</td>\n",
       "      <td>37.494631</td>\n",
       "      <td>126.917764</td>\n",
       "      <td>POINT (126.9177639 37.4946315)</td>\n",
       "    </tr>\n",
       "    <tr>\n",
       "      <th>2</th>\n",
       "      <td>2</td>\n",
       "      <td>양천소방서</td>\n",
       "      <td>37.530222</td>\n",
       "      <td>126.872135</td>\n",
       "      <td>POINT (126.872135 37.5302223)</td>\n",
       "    </tr>\n",
       "    <tr>\n",
       "      <th>3</th>\n",
       "      <td>3</td>\n",
       "      <td>중부소방서</td>\n",
       "      <td>37.564956</td>\n",
       "      <td>127.015453</td>\n",
       "      <td>POINT (127.0154527 37.5649557)</td>\n",
       "    </tr>\n",
       "    <tr>\n",
       "      <th>4</th>\n",
       "      <td>4</td>\n",
       "      <td>강서소방서</td>\n",
       "      <td>37.558002</td>\n",
       "      <td>126.860344</td>\n",
       "      <td>POINT (126.8603443 37.5580018)</td>\n",
       "    </tr>\n",
       "  </tbody>\n",
       "</table>\n",
       "</div>"
      ],
      "text/plain": [
       "   Unnamed: 0    서소이름         위도          경도                        geometry\n",
       "0           0  서대문소방서  37.573334  126.935980  POINT (126.9359802 37.5733339)\n",
       "1           1   동작소방서  37.494631  126.917764  POINT (126.9177639 37.4946315)\n",
       "2           2   양천소방서  37.530222  126.872135   POINT (126.872135 37.5302223)\n",
       "3           3   중부소방서  37.564956  127.015453  POINT (127.0154527 37.5649557)\n",
       "4           4   강서소방서  37.558002  126.860344  POINT (126.8603443 37.5580018)"
      ]
     },
     "execution_count": 5,
     "metadata": {},
     "output_type": "execute_result"
    }
   ],
   "source": [
    "data[\"geometry\"] = office\n",
    "data.head()"
   ]
  },
  {
   "cell_type": "code",
   "execution_count": 6,
   "metadata": {},
   "outputs": [
    {
     "data": {
      "text/plain": [
       "array(['서대문소방서', '동작소방서', '양천소방서', '중부소방서', '강서소방서', '은평소방서', '송파소방서',\n",
       "       '중랑소방서', '동대문소방서', '용산소방서', '관악소방서', '서초소방서', '구로소방서', '노원소방서',\n",
       "       '종로소방서', '마포소방서', '도봉소방서', '광진소방서', '영등포소방서', '강북소방서', '강남소방서',\n",
       "       '강동소방서', '성북소방서', '성동소방서'], dtype=object)"
      ]
     },
     "execution_count": 6,
     "metadata": {},
     "output_type": "execute_result"
    }
   ],
   "source": [
    "data[\"서소이름\"].unique()"
   ]
  },
  {
   "cell_type": "code",
   "execution_count": 7,
   "metadata": {},
   "outputs": [],
   "source": [
    "data = gpd.GeoDataFrame(data, geometry = 'geometry')"
   ]
  },
  {
   "cell_type": "code",
   "execution_count": 8,
   "metadata": {},
   "outputs": [],
   "source": [
    "seoul_area = gpd.GeoDataFrame.from_file('./spatial_analysis-master/spatial_analysis-master/data/LARD_ADM_SECT_SGG_11.shp', encoding='cp949')"
   ]
  },
  {
   "cell_type": "code",
   "execution_count": 9,
   "metadata": {},
   "outputs": [
    {
     "name": "stdout",
     "output_type": "stream",
     "text": [
      "{'init': 'epsg:5179'}\n",
      "{'init': 'epsg:4326'}\n"
     ]
    }
   ],
   "source": [
    "print(seoul_area.crs)\n",
    "data.crs = {'init' : 'epsg:4326'}\n",
    "print(data.crs)"
   ]
  },
  {
   "cell_type": "code",
   "execution_count": 10,
   "metadata": {},
   "outputs": [
    {
     "data": {
      "text/html": [
       "<div>\n",
       "<style scoped>\n",
       "    .dataframe tbody tr th:only-of-type {\n",
       "        vertical-align: middle;\n",
       "    }\n",
       "\n",
       "    .dataframe tbody tr th {\n",
       "        vertical-align: top;\n",
       "    }\n",
       "\n",
       "    .dataframe thead th {\n",
       "        text-align: right;\n",
       "    }\n",
       "</style>\n",
       "<table border=\"1\" class=\"dataframe\">\n",
       "  <thead>\n",
       "    <tr style=\"text-align: right;\">\n",
       "      <th></th>\n",
       "      <th>ADM_SECT_C</th>\n",
       "      <th>SGG_NM</th>\n",
       "      <th>SGG_OID</th>\n",
       "      <th>COL_ADM_SE</th>\n",
       "      <th>GID</th>\n",
       "      <th>geometry</th>\n",
       "    </tr>\n",
       "  </thead>\n",
       "  <tbody>\n",
       "    <tr>\n",
       "      <th>0</th>\n",
       "      <td>11740</td>\n",
       "      <td>강동구</td>\n",
       "      <td>337</td>\n",
       "      <td>11740</td>\n",
       "      <td>127</td>\n",
       "      <td>POLYGON ((969713.132 1948846.288, 969692.451 1...</td>\n",
       "    </tr>\n",
       "    <tr>\n",
       "      <th>1</th>\n",
       "      <td>11710</td>\n",
       "      <td>송파구</td>\n",
       "      <td>1969</td>\n",
       "      <td>11710</td>\n",
       "      <td>128</td>\n",
       "      <td>POLYGON ((968640.372 1944982.492, 968640.957 1...</td>\n",
       "    </tr>\n",
       "    <tr>\n",
       "      <th>2</th>\n",
       "      <td>11680</td>\n",
       "      <td>강남구</td>\n",
       "      <td>33</td>\n",
       "      <td>11680</td>\n",
       "      <td>129</td>\n",
       "      <td>POLYGON ((958696.114 1948605.678, 959195.920 1...</td>\n",
       "    </tr>\n",
       "    <tr>\n",
       "      <th>3</th>\n",
       "      <td>11650</td>\n",
       "      <td>서초구</td>\n",
       "      <td>33</td>\n",
       "      <td>11650</td>\n",
       "      <td>130</td>\n",
       "      <td>POLYGON ((958117.753 1940073.855, 958118.398 1...</td>\n",
       "    </tr>\n",
       "    <tr>\n",
       "      <th>4</th>\n",
       "      <td>11620</td>\n",
       "      <td>관악구</td>\n",
       "      <td>33</td>\n",
       "      <td>11620</td>\n",
       "      <td>131</td>\n",
       "      <td>POLYGON ((949321.250 1944035.054, 949323.256 1...</td>\n",
       "    </tr>\n",
       "  </tbody>\n",
       "</table>\n",
       "</div>"
      ],
      "text/plain": [
       "  ADM_SECT_C SGG_NM  SGG_OID COL_ADM_SE  GID  \\\n",
       "0      11740    강동구      337      11740  127   \n",
       "1      11710    송파구     1969      11710  128   \n",
       "2      11680    강남구       33      11680  129   \n",
       "3      11650    서초구       33      11650  130   \n",
       "4      11620    관악구       33      11620  131   \n",
       "\n",
       "                                            geometry  \n",
       "0  POLYGON ((969713.132 1948846.288, 969692.451 1...  \n",
       "1  POLYGON ((968640.372 1944982.492, 968640.957 1...  \n",
       "2  POLYGON ((958696.114 1948605.678, 959195.920 1...  \n",
       "3  POLYGON ((958117.753 1940073.855, 958118.398 1...  \n",
       "4  POLYGON ((949321.250 1944035.054, 949323.256 1...  "
      ]
     },
     "execution_count": 10,
     "metadata": {},
     "output_type": "execute_result"
    }
   ],
   "source": [
    "seoul_area.head()"
   ]
  },
  {
   "cell_type": "code",
   "execution_count": 11,
   "metadata": {},
   "outputs": [],
   "source": [
    "data = data.to_crs({'init': 'epsg:5179'})"
   ]
  },
  {
   "cell_type": "code",
   "execution_count": 16,
   "metadata": {},
   "outputs": [
    {
     "name": "stdout",
     "output_type": "stream",
     "text": [
      "{'init': 'epsg:5179'}\n",
      "{'init': 'epsg:5179'}\n"
     ]
    }
   ],
   "source": [
    "print(seoul_area.crs)\n",
    "print(data.crs)"
   ]
  },
  {
   "cell_type": "code",
   "execution_count": 12,
   "metadata": {},
   "outputs": [
    {
     "data": {
      "image/png": "[encoded data removed]",
      "text/plain": [
       "<Figure size 576x576 with 1 Axes>"
      ]
     },
     "metadata": {
      "needs_background": "light"
     },
     "output_type": "display_data"
    }
   ],
   "source": [
    "import matplotlib.pyplot as plt\n",
    "buf_poly = gpd.GeoDataFrame({'geometry': data.buffer(1000)})\n",
    "\n",
    "ax = seoul_area.plot(column=\"SGG_NM\", figsize=(8,8), facecolor = \"None\", edgecolor = \"white\")\n",
    "data.plot(ax = ax, marker = 'v', color = 'black', label = \"firestation\")\n",
    "buf_poly.boundary.plot(ax = ax, color = \"red\")\n",
    "ax.set_axis_off()\n",
    "plt.legend()\n",
    "plt.show()"
   ]
  },
  {
   "cell_type": "markdown",
   "metadata": {},
   "source": [
    "## 서울시 안전센터 위치 확인"
   ]
  },
  {
   "cell_type": "code",
   "execution_count": 19,
   "metadata": {},
   "outputs": [
    {
     "data": {
      "text/html": [
       "<div>\n",
       "<style scoped>\n",
       "    .dataframe tbody tr th:only-of-type {\n",
       "        vertical-align: middle;\n",
       "    }\n",
       "\n",
       "    .dataframe tbody tr th {\n",
       "        vertical-align: top;\n",
       "    }\n",
       "\n",
       "    .dataframe thead th {\n",
       "        text-align: right;\n",
       "    }\n",
       "</style>\n",
       "<table border=\"1\" class=\"dataframe\">\n",
       "  <thead>\n",
       "    <tr style=\"text-align: right;\">\n",
       "      <th></th>\n",
       "      <th>고유번호</th>\n",
       "      <th>센터ID</th>\n",
       "      <th>센터명</th>\n",
       "      <th>위도</th>\n",
       "      <th>경도</th>\n",
       "    </tr>\n",
       "  </thead>\n",
       "  <tbody>\n",
       "    <tr>\n",
       "      <th>0</th>\n",
       "      <td>21</td>\n",
       "      <td>1121101</td>\n",
       "      <td>양천119안전센터</td>\n",
       "      <td>37.527161</td>\n",
       "      <td>126.869452</td>\n",
       "    </tr>\n",
       "    <tr>\n",
       "      <th>1</th>\n",
       "      <td>22</td>\n",
       "      <td>1122101</td>\n",
       "      <td>신내119안전센터</td>\n",
       "      <td>37.610246</td>\n",
       "      <td>127.096473</td>\n",
       "    </tr>\n",
       "    <tr>\n",
       "      <th>2</th>\n",
       "      <td>42</td>\n",
       "      <td>1115104</td>\n",
       "      <td>서초119안전센터</td>\n",
       "      <td>37.487773</td>\n",
       "      <td>127.017145</td>\n",
       "    </tr>\n",
       "    <tr>\n",
       "      <th>3</th>\n",
       "      <td>3</td>\n",
       "      <td>1106102</td>\n",
       "      <td>이촌119안전센터</td>\n",
       "      <td>37.527841</td>\n",
       "      <td>126.958318</td>\n",
       "    </tr>\n",
       "    <tr>\n",
       "      <th>4</th>\n",
       "      <td>4</td>\n",
       "      <td>1106104</td>\n",
       "      <td>후암119안전센터</td>\n",
       "      <td>37.544896</td>\n",
       "      <td>126.981242</td>\n",
       "    </tr>\n",
       "  </tbody>\n",
       "</table>\n",
       "</div>"
      ],
      "text/plain": [
       "   고유번호     센터ID        센터명         위도          경도\n",
       "0    21  1121101  양천119안전센터  37.527161  126.869452\n",
       "1    22  1122101  신내119안전센터  37.610246  127.096473\n",
       "2    42  1115104  서초119안전센터  37.487773  127.017145\n",
       "3     3  1106102  이촌119안전센터  37.527841  126.958318\n",
       "4     4  1106104  후암119안전센터  37.544896  126.981242"
      ]
     },
     "execution_count": 19,
     "metadata": {},
     "output_type": "execute_result"
    }
   ],
   "source": [
    "safe_center = pd.read_csv(\"C:/Users/Leegihong/OneDrive - 숭실대학교 - Soongsil University/2021-1/전종설/데이터/안전센터위치.csv\", encoding = \"cp949\")\n",
    "safe_center.head()"
   ]
  },
  {
   "cell_type": "code",
   "execution_count": 21,
   "metadata": {},
   "outputs": [
    {
     "data": {
      "text/html": [
       "<div>\n",
       "<style scoped>\n",
       "    .dataframe tbody tr th:only-of-type {\n",
       "        vertical-align: middle;\n",
       "    }\n",
       "\n",
       "    .dataframe tbody tr th {\n",
       "        vertical-align: top;\n",
       "    }\n",
       "\n",
       "    .dataframe thead th {\n",
       "        text-align: right;\n",
       "    }\n",
       "</style>\n",
       "<table border=\"1\" class=\"dataframe\">\n",
       "  <thead>\n",
       "    <tr style=\"text-align: right;\">\n",
       "      <th></th>\n",
       "      <th>고유번호</th>\n",
       "      <th>센터ID</th>\n",
       "      <th>센터명</th>\n",
       "      <th>위도</th>\n",
       "      <th>경도</th>\n",
       "      <th>geometry</th>\n",
       "    </tr>\n",
       "  </thead>\n",
       "  <tbody>\n",
       "    <tr>\n",
       "      <th>0</th>\n",
       "      <td>21</td>\n",
       "      <td>1121101</td>\n",
       "      <td>양천119안전센터</td>\n",
       "      <td>37.527161</td>\n",
       "      <td>126.869452</td>\n",
       "      <td>POINT (126.8694519 37.527161)</td>\n",
       "    </tr>\n",
       "    <tr>\n",
       "      <th>1</th>\n",
       "      <td>22</td>\n",
       "      <td>1122101</td>\n",
       "      <td>신내119안전센터</td>\n",
       "      <td>37.610246</td>\n",
       "      <td>127.096473</td>\n",
       "      <td>POINT (127.0964731 37.6102463)</td>\n",
       "    </tr>\n",
       "    <tr>\n",
       "      <th>2</th>\n",
       "      <td>42</td>\n",
       "      <td>1115104</td>\n",
       "      <td>서초119안전센터</td>\n",
       "      <td>37.487773</td>\n",
       "      <td>127.017145</td>\n",
       "      <td>POINT (127.0171447 37.4877727)</td>\n",
       "    </tr>\n",
       "    <tr>\n",
       "      <th>3</th>\n",
       "      <td>3</td>\n",
       "      <td>1106102</td>\n",
       "      <td>이촌119안전센터</td>\n",
       "      <td>37.527841</td>\n",
       "      <td>126.958318</td>\n",
       "      <td>POINT (126.9583175 37.5278414)</td>\n",
       "    </tr>\n",
       "    <tr>\n",
       "      <th>4</th>\n",
       "      <td>4</td>\n",
       "      <td>1106104</td>\n",
       "      <td>후암119안전센터</td>\n",
       "      <td>37.544896</td>\n",
       "      <td>126.981242</td>\n",
       "      <td>POINT (126.9812418 37.5448956)</td>\n",
       "    </tr>\n",
       "  </tbody>\n",
       "</table>\n",
       "</div>"
      ],
      "text/plain": [
       "   고유번호     센터ID        센터명         위도          경도  \\\n",
       "0    21  1121101  양천119안전센터  37.527161  126.869452   \n",
       "1    22  1122101  신내119안전센터  37.610246  127.096473   \n",
       "2    42  1115104  서초119안전센터  37.487773  127.017145   \n",
       "3     3  1106102  이촌119안전센터  37.527841  126.958318   \n",
       "4     4  1106104  후암119안전센터  37.544896  126.981242   \n",
       "\n",
       "                         geometry  \n",
       "0   POINT (126.8694519 37.527161)  \n",
       "1  POINT (127.0964731 37.6102463)  \n",
       "2  POINT (127.0171447 37.4877727)  \n",
       "3  POINT (126.9583175 37.5278414)  \n",
       "4  POINT (126.9812418 37.5448956)  "
      ]
     },
     "execution_count": 21,
     "metadata": {},
     "output_type": "execute_result"
    }
   ],
   "source": [
    "safe_center[\"geometry\"] = position\n",
    "safe_center.head()"
   ]
  },
  {
   "cell_type": "code",
   "execution_count": 22,
   "metadata": {},
   "outputs": [],
   "source": [
    "safe_center = gpd.GeoDataFrame(safe_center, geometry = 'geometry')"
   ]
  },
  {
   "cell_type": "code",
   "execution_count": 23,
   "metadata": {},
   "outputs": [
    {
     "name": "stdout",
     "output_type": "stream",
     "text": [
      "{'init': 'epsg:4326'}\n"
     ]
    }
   ],
   "source": [
    "safe_center.crs = {'init' : 'epsg:4326'}\n",
    "print(safe_center.crs)"
   ]
  },
  {
   "cell_type": "code",
   "execution_count": 24,
   "metadata": {},
   "outputs": [],
   "source": [
    "safe_center = safe_center.to_crs({'init': 'epsg:5179'})"
   ]
  },
  {
   "cell_type": "code",
   "execution_count": 25,
   "metadata": {},
   "outputs": [
    {
     "data": {
      "image/png": "[encoded data removed]",
      "text/plain": [
       "<Figure size 576x576 with 1 Axes>"
      ]
     },
     "metadata": {
      "needs_background": "light"
     },
     "output_type": "display_data"
    }
   ],
   "source": [
    "ax = seoul_area.plot(column=\"SGG_NM\", figsize=(8,8), facecolor = \"None\", edgecolor = \"white\")\n",
    "safe_center.plot(ax = ax, marker = 'o', color = 'black', label = \"center\")\n",
    "ax.set_axis_off()\n",
    "plt.legend()\n",
    "plt.show()"
   ]
  },
  {
   "cell_type": "markdown",
   "metadata": {},
   "source": [
    "## 화재 자치구별 시각화 "
   ]
  },
  {
   "cell_type": "code",
   "execution_count": 26,
   "metadata": {},
   "outputs": [],
   "source": [
    "def fire_place_gu(path):\n",
    "    place = pd.read_csv(path, delimiter = '\\t')\n",
    "    colname = list(place.iloc[0,])\n",
    "    place = place.iloc[2:,:]\n",
    "    place.columns = colname\n",
    "    place = place.reset_index()\n",
    "    place.drop(['index'], axis=1, inplace=True)\n",
    "    place = place.replace('-', 0)\n",
    "    return place"
   ]
  },
  {
   "cell_type": "code",
   "execution_count": 27,
   "metadata": {},
   "outputs": [
    {
     "data": {
      "text/html": [
       "<div>\n",
       "<style scoped>\n",
       "    .dataframe tbody tr th:only-of-type {\n",
       "        vertical-align: middle;\n",
       "    }\n",
       "\n",
       "    .dataframe tbody tr th {\n",
       "        vertical-align: top;\n",
       "    }\n",
       "\n",
       "    .dataframe thead th {\n",
       "        text-align: right;\n",
       "    }\n",
       "</style>\n",
       "<table border=\"1\" class=\"dataframe\">\n",
       "  <thead>\n",
       "    <tr style=\"text-align: right;\">\n",
       "      <th></th>\n",
       "      <th>기간</th>\n",
       "      <th>자치구</th>\n",
       "      <th>합계</th>\n",
       "      <th>단독주택</th>\n",
       "      <th>공동주택</th>\n",
       "      <th>기타주택</th>\n",
       "      <th>학교</th>\n",
       "      <th>일반업무</th>\n",
       "      <th>판매시설</th>\n",
       "      <th>숙박시설</th>\n",
       "      <th>...</th>\n",
       "      <th>의료시설</th>\n",
       "      <th>공장 및 창고</th>\n",
       "      <th>작업장</th>\n",
       "      <th>위락오락시설</th>\n",
       "      <th>음식점</th>\n",
       "      <th>일반서비스시설</th>\n",
       "      <th>기타</th>\n",
       "      <th>운송(차량 철도 등)</th>\n",
       "      <th>임야</th>\n",
       "      <th>기타</th>\n",
       "    </tr>\n",
       "  </thead>\n",
       "  <tbody>\n",
       "    <tr>\n",
       "      <th>0</th>\n",
       "      <td>2019</td>\n",
       "      <td>종로구</td>\n",
       "      <td>232</td>\n",
       "      <td>33</td>\n",
       "      <td>24</td>\n",
       "      <td>2</td>\n",
       "      <td>3</td>\n",
       "      <td>18</td>\n",
       "      <td>7</td>\n",
       "      <td>5</td>\n",
       "      <td>...</td>\n",
       "      <td>2</td>\n",
       "      <td>3</td>\n",
       "      <td>11</td>\n",
       "      <td>2</td>\n",
       "      <td>46</td>\n",
       "      <td>8</td>\n",
       "      <td>12</td>\n",
       "      <td>18</td>\n",
       "      <td>1</td>\n",
       "      <td>36</td>\n",
       "    </tr>\n",
       "    <tr>\n",
       "      <th>1</th>\n",
       "      <td>2019</td>\n",
       "      <td>중구</td>\n",
       "      <td>213</td>\n",
       "      <td>10</td>\n",
       "      <td>21</td>\n",
       "      <td>1</td>\n",
       "      <td>1</td>\n",
       "      <td>21</td>\n",
       "      <td>11</td>\n",
       "      <td>6</td>\n",
       "      <td>...</td>\n",
       "      <td>1</td>\n",
       "      <td>4</td>\n",
       "      <td>20</td>\n",
       "      <td>2</td>\n",
       "      <td>21</td>\n",
       "      <td>10</td>\n",
       "      <td>4</td>\n",
       "      <td>13</td>\n",
       "      <td>2</td>\n",
       "      <td>62</td>\n",
       "    </tr>\n",
       "    <tr>\n",
       "      <th>2</th>\n",
       "      <td>2019</td>\n",
       "      <td>용산구</td>\n",
       "      <td>238</td>\n",
       "      <td>43</td>\n",
       "      <td>43</td>\n",
       "      <td>1</td>\n",
       "      <td>0</td>\n",
       "      <td>14</td>\n",
       "      <td>7</td>\n",
       "      <td>3</td>\n",
       "      <td>...</td>\n",
       "      <td>1</td>\n",
       "      <td>0</td>\n",
       "      <td>1</td>\n",
       "      <td>1</td>\n",
       "      <td>37</td>\n",
       "      <td>7</td>\n",
       "      <td>12</td>\n",
       "      <td>11</td>\n",
       "      <td>0</td>\n",
       "      <td>57</td>\n",
       "    </tr>\n",
       "    <tr>\n",
       "      <th>3</th>\n",
       "      <td>2019</td>\n",
       "      <td>성동구</td>\n",
       "      <td>194</td>\n",
       "      <td>38</td>\n",
       "      <td>45</td>\n",
       "      <td>0</td>\n",
       "      <td>0</td>\n",
       "      <td>9</td>\n",
       "      <td>3</td>\n",
       "      <td>1</td>\n",
       "      <td>...</td>\n",
       "      <td>1</td>\n",
       "      <td>11</td>\n",
       "      <td>21</td>\n",
       "      <td>4</td>\n",
       "      <td>12</td>\n",
       "      <td>10</td>\n",
       "      <td>9</td>\n",
       "      <td>12</td>\n",
       "      <td>0</td>\n",
       "      <td>16</td>\n",
       "    </tr>\n",
       "    <tr>\n",
       "      <th>4</th>\n",
       "      <td>2019</td>\n",
       "      <td>광진구</td>\n",
       "      <td>195</td>\n",
       "      <td>56</td>\n",
       "      <td>33</td>\n",
       "      <td>0</td>\n",
       "      <td>0</td>\n",
       "      <td>10</td>\n",
       "      <td>2</td>\n",
       "      <td>1</td>\n",
       "      <td>...</td>\n",
       "      <td>2</td>\n",
       "      <td>5</td>\n",
       "      <td>1</td>\n",
       "      <td>3</td>\n",
       "      <td>21</td>\n",
       "      <td>16</td>\n",
       "      <td>9</td>\n",
       "      <td>18</td>\n",
       "      <td>1</td>\n",
       "      <td>16</td>\n",
       "    </tr>\n",
       "  </tbody>\n",
       "</table>\n",
       "<p>5 rows × 21 columns</p>\n",
       "</div>"
      ],
      "text/plain": [
       "     기간  자치구   합계 단독주택 공동주택 기타주택 학교 일반업무 판매시설 숙박시설  ... 의료시설 공장 및 창고 작업장  \\\n",
       "0  2019  종로구  232   33   24    2  3   18    7    5  ...    2       3  11   \n",
       "1  2019   중구  213   10   21    1  1   21   11    6  ...    1       4  20   \n",
       "2  2019  용산구  238   43   43    1  0   14    7    3  ...    1       0   1   \n",
       "3  2019  성동구  194   38   45    0  0    9    3    1  ...    1      11  21   \n",
       "4  2019  광진구  195   56   33    0  0   10    2    1  ...    2       5   1   \n",
       "\n",
       "  위락오락시설 음식점 일반서비스시설  기타 운송(차량 철도 등) 임야  기타  \n",
       "0      2  46       8  12          18  1  36  \n",
       "1      2  21      10   4          13  2  62  \n",
       "2      1  37       7  12          11  0  57  \n",
       "3      4  12      10   9          12  0  16  \n",
       "4      3  21      16   9          18  1  16  \n",
       "\n",
       "[5 rows x 21 columns]"
      ]
     },
     "execution_count": 27,
     "metadata": {},
     "output_type": "execute_result"
    }
   ],
   "source": [
    "fireplace2019 = fire_place_gu(\"C:/Users/Leegihong/OneDrive - 숭실대학교 - Soongsil University/2021-1/전종설/데이터/baek_data/자치구 화재 장소/화재장소2019.txt\")\n",
    "fireplace2019.head()"
   ]
  },
  {
   "cell_type": "code",
   "execution_count": 28,
   "metadata": {},
   "outputs": [
    {
     "data": {
      "text/html": [
       "<div>\n",
       "<style scoped>\n",
       "    .dataframe tbody tr th:only-of-type {\n",
       "        vertical-align: middle;\n",
       "    }\n",
       "\n",
       "    .dataframe tbody tr th {\n",
       "        vertical-align: top;\n",
       "    }\n",
       "\n",
       "    .dataframe thead th {\n",
       "        text-align: right;\n",
       "    }\n",
       "</style>\n",
       "<table border=\"1\" class=\"dataframe\">\n",
       "  <thead>\n",
       "    <tr style=\"text-align: right;\">\n",
       "      <th></th>\n",
       "      <th>기간</th>\n",
       "      <th>자치구</th>\n",
       "      <th>합계</th>\n",
       "    </tr>\n",
       "  </thead>\n",
       "  <tbody>\n",
       "    <tr>\n",
       "      <th>0</th>\n",
       "      <td>2019</td>\n",
       "      <td>종로구</td>\n",
       "      <td>232</td>\n",
       "    </tr>\n",
       "    <tr>\n",
       "      <th>1</th>\n",
       "      <td>2019</td>\n",
       "      <td>중구</td>\n",
       "      <td>213</td>\n",
       "    </tr>\n",
       "    <tr>\n",
       "      <th>2</th>\n",
       "      <td>2019</td>\n",
       "      <td>용산구</td>\n",
       "      <td>238</td>\n",
       "    </tr>\n",
       "    <tr>\n",
       "      <th>3</th>\n",
       "      <td>2019</td>\n",
       "      <td>성동구</td>\n",
       "      <td>194</td>\n",
       "    </tr>\n",
       "    <tr>\n",
       "      <th>4</th>\n",
       "      <td>2019</td>\n",
       "      <td>광진구</td>\n",
       "      <td>195</td>\n",
       "    </tr>\n",
       "  </tbody>\n",
       "</table>\n",
       "</div>"
      ],
      "text/plain": [
       "     기간  자치구   합계\n",
       "0  2019  종로구  232\n",
       "1  2019   중구  213\n",
       "2  2019  용산구  238\n",
       "3  2019  성동구  194\n",
       "4  2019  광진구  195"
      ]
     },
     "execution_count": 28,
     "metadata": {},
     "output_type": "execute_result"
    }
   ],
   "source": [
    "fireplace2019 = fireplace2019.iloc[:, :3]\n",
    "fireplace2019.head()"
   ]
  },
  {
   "cell_type": "code",
   "execution_count": 29,
   "metadata": {},
   "outputs": [
    {
     "name": "stdout",
     "output_type": "stream",
     "text": [
      "yes\n"
     ]
    }
   ],
   "source": [
    "# fireplace2019[\"자치구\"] == \"노원구\" 도봉구 성북구\n",
    "for j in range(25):\n",
    "    if seoul_area.loc[j, \"SGG_NM\"] == \"서울시성북구\":\n",
    "        seoul_area.loc[j, \"SGG_NM\"] = \"노원구\"\n",
    "        print(\"yes\")"
   ]
  },
  {
   "cell_type": "code",
   "execution_count": 30,
   "metadata": {},
   "outputs": [
    {
     "data": {
      "text/html": [
       "<div>\n",
       "<style scoped>\n",
       "    .dataframe tbody tr th:only-of-type {\n",
       "        vertical-align: middle;\n",
       "    }\n",
       "\n",
       "    .dataframe tbody tr th {\n",
       "        vertical-align: top;\n",
       "    }\n",
       "\n",
       "    .dataframe thead th {\n",
       "        text-align: right;\n",
       "    }\n",
       "</style>\n",
       "<table border=\"1\" class=\"dataframe\">\n",
       "  <thead>\n",
       "    <tr style=\"text-align: right;\">\n",
       "      <th></th>\n",
       "      <th>ADM_SECT_C</th>\n",
       "      <th>SGG_NM</th>\n",
       "      <th>SGG_OID</th>\n",
       "      <th>COL_ADM_SE</th>\n",
       "      <th>GID</th>\n",
       "      <th>geometry</th>\n",
       "    </tr>\n",
       "  </thead>\n",
       "  <tbody>\n",
       "    <tr>\n",
       "      <th>0</th>\n",
       "      <td>11740</td>\n",
       "      <td>강동구</td>\n",
       "      <td>337</td>\n",
       "      <td>11740</td>\n",
       "      <td>127</td>\n",
       "      <td>POLYGON ((969713.132 1948846.288, 969692.451 1...</td>\n",
       "    </tr>\n",
       "    <tr>\n",
       "      <th>1</th>\n",
       "      <td>11710</td>\n",
       "      <td>송파구</td>\n",
       "      <td>1969</td>\n",
       "      <td>11710</td>\n",
       "      <td>128</td>\n",
       "      <td>POLYGON ((968640.372 1944982.492, 968640.957 1...</td>\n",
       "    </tr>\n",
       "    <tr>\n",
       "      <th>2</th>\n",
       "      <td>11680</td>\n",
       "      <td>강남구</td>\n",
       "      <td>33</td>\n",
       "      <td>11680</td>\n",
       "      <td>129</td>\n",
       "      <td>POLYGON ((958696.114 1948605.678, 959195.920 1...</td>\n",
       "    </tr>\n",
       "    <tr>\n",
       "      <th>3</th>\n",
       "      <td>11650</td>\n",
       "      <td>서초구</td>\n",
       "      <td>33</td>\n",
       "      <td>11650</td>\n",
       "      <td>130</td>\n",
       "      <td>POLYGON ((958117.753 1940073.855, 958118.398 1...</td>\n",
       "    </tr>\n",
       "    <tr>\n",
       "      <th>4</th>\n",
       "      <td>11620</td>\n",
       "      <td>관악구</td>\n",
       "      <td>33</td>\n",
       "      <td>11620</td>\n",
       "      <td>131</td>\n",
       "      <td>POLYGON ((949321.250 1944035.054, 949323.256 1...</td>\n",
       "    </tr>\n",
       "  </tbody>\n",
       "</table>\n",
       "</div>"
      ],
      "text/plain": [
       "  ADM_SECT_C SGG_NM  SGG_OID COL_ADM_SE  GID  \\\n",
       "0      11740    강동구      337      11740  127   \n",
       "1      11710    송파구     1969      11710  128   \n",
       "2      11680    강남구       33      11680  129   \n",
       "3      11650    서초구       33      11650  130   \n",
       "4      11620    관악구       33      11620  131   \n",
       "\n",
       "                                            geometry  \n",
       "0  POLYGON ((969713.132 1948846.288, 969692.451 1...  \n",
       "1  POLYGON ((968640.372 1944982.492, 968640.957 1...  \n",
       "2  POLYGON ((958696.114 1948605.678, 959195.920 1...  \n",
       "3  POLYGON ((958117.753 1940073.855, 958118.398 1...  \n",
       "4  POLYGON ((949321.250 1944035.054, 949323.256 1...  "
      ]
     },
     "execution_count": 30,
     "metadata": {},
     "output_type": "execute_result"
    }
   ],
   "source": [
    "seoul_area.head()"
   ]
  },
  {
   "cell_type": "code",
   "execution_count": 31,
   "metadata": {},
   "outputs": [
    {
     "data": {
      "text/html": [
       "<div>\n",
       "<style scoped>\n",
       "    .dataframe tbody tr th:only-of-type {\n",
       "        vertical-align: middle;\n",
       "    }\n",
       "\n",
       "    .dataframe tbody tr th {\n",
       "        vertical-align: top;\n",
       "    }\n",
       "\n",
       "    .dataframe thead th {\n",
       "        text-align: right;\n",
       "    }\n",
       "</style>\n",
       "<table border=\"1\" class=\"dataframe\">\n",
       "  <thead>\n",
       "    <tr style=\"text-align: right;\">\n",
       "      <th></th>\n",
       "      <th>기간</th>\n",
       "      <th>자치구</th>\n",
       "      <th>합계</th>\n",
       "      <th>geometry</th>\n",
       "    </tr>\n",
       "  </thead>\n",
       "  <tbody>\n",
       "    <tr>\n",
       "      <th>0</th>\n",
       "      <td>2019</td>\n",
       "      <td>종로구</td>\n",
       "      <td>232</td>\n",
       "      <td>0</td>\n",
       "    </tr>\n",
       "    <tr>\n",
       "      <th>1</th>\n",
       "      <td>2019</td>\n",
       "      <td>중구</td>\n",
       "      <td>213</td>\n",
       "      <td>0</td>\n",
       "    </tr>\n",
       "    <tr>\n",
       "      <th>2</th>\n",
       "      <td>2019</td>\n",
       "      <td>용산구</td>\n",
       "      <td>238</td>\n",
       "      <td>0</td>\n",
       "    </tr>\n",
       "    <tr>\n",
       "      <th>3</th>\n",
       "      <td>2019</td>\n",
       "      <td>성동구</td>\n",
       "      <td>194</td>\n",
       "      <td>0</td>\n",
       "    </tr>\n",
       "    <tr>\n",
       "      <th>4</th>\n",
       "      <td>2019</td>\n",
       "      <td>광진구</td>\n",
       "      <td>195</td>\n",
       "      <td>0</td>\n",
       "    </tr>\n",
       "  </tbody>\n",
       "</table>\n",
       "</div>"
      ],
      "text/plain": [
       "     기간  자치구   합계  geometry\n",
       "0  2019  종로구  232         0\n",
       "1  2019   중구  213         0\n",
       "2  2019  용산구  238         0\n",
       "3  2019  성동구  194         0\n",
       "4  2019  광진구  195         0"
      ]
     },
     "execution_count": 31,
     "metadata": {},
     "output_type": "execute_result"
    }
   ],
   "source": [
    "fireplace2019[\"geometry\"] = 0\n",
    "fireplace2019.head()"
   ]
  },
  {
   "cell_type": "code",
   "execution_count": 32,
   "metadata": {},
   "outputs": [
    {
     "data": {
      "text/html": [
       "<div>\n",
       "<style scoped>\n",
       "    .dataframe tbody tr th:only-of-type {\n",
       "        vertical-align: middle;\n",
       "    }\n",
       "\n",
       "    .dataframe tbody tr th {\n",
       "        vertical-align: top;\n",
       "    }\n",
       "\n",
       "    .dataframe thead th {\n",
       "        text-align: right;\n",
       "    }\n",
       "</style>\n",
       "<table border=\"1\" class=\"dataframe\">\n",
       "  <thead>\n",
       "    <tr style=\"text-align: right;\">\n",
       "      <th></th>\n",
       "      <th>ADM_SECT_C</th>\n",
       "      <th>SGG_NM</th>\n",
       "      <th>SGG_OID</th>\n",
       "      <th>COL_ADM_SE</th>\n",
       "      <th>GID</th>\n",
       "      <th>geometry</th>\n",
       "      <th>합계</th>\n",
       "    </tr>\n",
       "  </thead>\n",
       "  <tbody>\n",
       "    <tr>\n",
       "      <th>0</th>\n",
       "      <td>11740</td>\n",
       "      <td>강동구</td>\n",
       "      <td>337</td>\n",
       "      <td>11740</td>\n",
       "      <td>127</td>\n",
       "      <td>POLYGON ((969713.132 1948846.288, 969692.451 1...</td>\n",
       "      <td>254.0</td>\n",
       "    </tr>\n",
       "    <tr>\n",
       "      <th>1</th>\n",
       "      <td>11710</td>\n",
       "      <td>송파구</td>\n",
       "      <td>1969</td>\n",
       "      <td>11710</td>\n",
       "      <td>128</td>\n",
       "      <td>POLYGON ((968640.372 1944982.492, 968640.957 1...</td>\n",
       "      <td>335.0</td>\n",
       "    </tr>\n",
       "    <tr>\n",
       "      <th>2</th>\n",
       "      <td>11680</td>\n",
       "      <td>강남구</td>\n",
       "      <td>33</td>\n",
       "      <td>11680</td>\n",
       "      <td>129</td>\n",
       "      <td>POLYGON ((958696.114 1948605.678, 959195.920 1...</td>\n",
       "      <td>456.0</td>\n",
       "    </tr>\n",
       "    <tr>\n",
       "      <th>3</th>\n",
       "      <td>11650</td>\n",
       "      <td>서초구</td>\n",
       "      <td>33</td>\n",
       "      <td>11650</td>\n",
       "      <td>130</td>\n",
       "      <td>POLYGON ((958117.753 1940073.855, 958118.398 1...</td>\n",
       "      <td>242.0</td>\n",
       "    </tr>\n",
       "    <tr>\n",
       "      <th>4</th>\n",
       "      <td>11620</td>\n",
       "      <td>관악구</td>\n",
       "      <td>33</td>\n",
       "      <td>11620</td>\n",
       "      <td>131</td>\n",
       "      <td>POLYGON ((949321.250 1944035.054, 949323.256 1...</td>\n",
       "      <td>311.0</td>\n",
       "    </tr>\n",
       "  </tbody>\n",
       "</table>\n",
       "</div>"
      ],
      "text/plain": [
       "  ADM_SECT_C SGG_NM  SGG_OID COL_ADM_SE  GID  \\\n",
       "0      11740    강동구      337      11740  127   \n",
       "1      11710    송파구     1969      11710  128   \n",
       "2      11680    강남구       33      11680  129   \n",
       "3      11650    서초구       33      11650  130   \n",
       "4      11620    관악구       33      11620  131   \n",
       "\n",
       "                                            geometry     합계  \n",
       "0  POLYGON ((969713.132 1948846.288, 969692.451 1...  254.0  \n",
       "1  POLYGON ((968640.372 1944982.492, 968640.957 1...  335.0  \n",
       "2  POLYGON ((958696.114 1948605.678, 959195.920 1...  456.0  \n",
       "3  POLYGON ((958117.753 1940073.855, 958118.398 1...  242.0  \n",
       "4  POLYGON ((949321.250 1944035.054, 949323.256 1...  311.0  "
      ]
     },
     "execution_count": 32,
     "metadata": {},
     "output_type": "execute_result"
    }
   ],
   "source": [
    "for gu in range(25):\n",
    "    for j in range(25):\n",
    "        if fireplace2019.loc[gu,\"자치구\"] == seoul_area.loc[j,\"SGG_NM\"]:\n",
    "            seoul_area.loc[j, \"합계\"] = int(fireplace2019.loc[gu,\"합계\"] )\n",
    "seoul_area.head()"
   ]
  },
  {
   "cell_type": "code",
   "execution_count": 34,
   "metadata": {},
   "outputs": [],
   "source": [
    "import numpy as np\n",
    "for j in range(25):\n",
    "    if seoul_area.loc[j, \"합계\"] == 0:\n",
    "        print(seoul_area.loc[:, \"합계\"])"
   ]
  },
  {
   "cell_type": "code",
   "execution_count": 35,
   "metadata": {},
   "outputs": [
    {
     "data": {
      "image/png": "[encoded data removed]",
      "text/plain": [
       "<Figure size 432x288 with 1 Axes>"
      ]
     },
     "metadata": {
      "needs_background": "light"
     },
     "output_type": "display_data"
    }
   ],
   "source": [
    "import warnings\n",
    "warnings.filterwarnings(action='ignore')\n",
    "\n",
    "fig, ax = plt.subplots(1,1)\n",
    "ax = seoul_area.plot(ax = ax, column=\"합계\", figsize=(8,8), cmap = 'summer_r', scheme = 'quantiles', k = 19)\n",
    "# safe_center.plot(ax = ax, marker = 'o', color = 'black', label = \"center\")\n",
    "ax.set_title(\"fire\")\n",
    "ax.set_axis_off()\n",
    "plt.show()"
   ]
  }
 ],
 "metadata": {
  "kernelspec": {
   "display_name": "Python 3",
   "language": "python",
   "name": "python3"
  },
  "language_info": {
   "codemirror_mode": {
    "name": "ipython",
    "version": 3
   },
   "file_extension": ".py",
   "mimetype": "text/x-python",
   "name": "python",
   "nbconvert_exporter": "python",
   "pygments_lexer": "ipython3",
   "version": "3.8.3"
  }
 },
 "nbformat": 4,
 "nbformat_minor": 4
}
